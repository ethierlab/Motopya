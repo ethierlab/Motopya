{
 "cells": [
  {
   "cell_type": "code",
   "execution_count": 1,
   "metadata": {},
   "outputs": [
    {
     "name": "stdout",
     "output_type": "stream",
     "text": [
      "Requirement already satisfied: flask in c:\\users\\siamak.zanjani\\appdata\\local\\programs\\python\\python312\\lib\\site-packages (3.0.3)\n",
      "Requirement already satisfied: Werkzeug>=3.0.0 in c:\\users\\siamak.zanjani\\appdata\\local\\programs\\python\\python312\\lib\\site-packages (from flask) (3.0.3)\n",
      "Requirement already satisfied: Jinja2>=3.1.2 in c:\\users\\siamak.zanjani\\appdata\\local\\programs\\python\\python312\\lib\\site-packages (from flask) (3.1.4)\n",
      "Requirement already satisfied: itsdangerous>=2.1.2 in c:\\users\\siamak.zanjani\\appdata\\local\\programs\\python\\python312\\lib\\site-packages (from flask) (2.2.0)\n",
      "Requirement already satisfied: click>=8.1.3 in c:\\users\\siamak.zanjani\\appdata\\local\\programs\\python\\python312\\lib\\site-packages (from flask) (8.1.7)\n",
      "Requirement already satisfied: blinker>=1.6.2 in c:\\users\\siamak.zanjani\\appdata\\local\\programs\\python\\python312\\lib\\site-packages (from flask) (1.8.2)\n",
      "Requirement already satisfied: colorama in c:\\users\\siamak.zanjani\\appdata\\local\\programs\\python\\python312\\lib\\site-packages (from click>=8.1.3->flask) (0.4.6)\n",
      "Requirement already satisfied: MarkupSafe>=2.0 in c:\\users\\siamak.zanjani\\appdata\\local\\programs\\python\\python312\\lib\\site-packages (from Jinja2>=3.1.2->flask) (2.1.5)\n",
      "Note: you may need to restart the kernel to use updated packages.\n"
     ]
    }
   ],
   "source": [
    "%pip install flask\n"
   ]
  },
  {
   "cell_type": "code",
   "execution_count": 1,
   "metadata": {},
   "outputs": [
    {
     "name": "stdout",
     "output_type": "stream",
     "text": [
      "Collecting esptool\n",
      "  Downloading esptool-4.7.0.tar.gz (285 kB)\n",
      "     ---------------------------------------- 0.0/285.5 kB ? eta -:--:--\n",
      "     - -------------------------------------- 10.2/285.5 kB ? eta -:--:--\n",
      "     ----- ------------------------------- 41.0/285.5 kB 393.8 kB/s eta 0:00:01\n",
      "     --------------- -------------------- 122.9/285.5 kB 901.1 kB/s eta 0:00:01\n",
      "     -------------------------------------- 285.5/285.5 kB 1.8 MB/s eta 0:00:00\n",
      "  Installing build dependencies: started\n",
      "  Installing build dependencies: finished with status 'done'\n",
      "  Getting requirements to build wheel: started\n",
      "  Getting requirements to build wheel: finished with status 'done'\n",
      "  Installing backend dependencies: started\n",
      "  Installing backend dependencies: finished with status 'done'\n",
      "  Preparing metadata (pyproject.toml): started\n",
      "  Preparing metadata (pyproject.toml): finished with status 'done'\n",
      "Collecting bitstring>=3.1.6 (from esptool)\n",
      "  Downloading bitstring-4.2.3-py3-none-any.whl.metadata (5.0 kB)\n",
      "Collecting cryptography>=2.1.4 (from esptool)\n",
      "  Downloading cryptography-42.0.7-cp39-abi3-win_amd64.whl.metadata (5.4 kB)\n",
      "Collecting ecdsa>=0.16.0 (from esptool)\n",
      "  Downloading ecdsa-0.19.0-py2.py3-none-any.whl.metadata (29 kB)\n",
      "Collecting pyserial>=3.0 (from esptool)\n",
      "  Downloading pyserial-3.5-py2.py3-none-any.whl.metadata (1.6 kB)\n",
      "Collecting reedsolo<1.8,>=1.5.3 (from esptool)\n",
      "  Downloading reedsolo-1.7.0-py3-none-any.whl.metadata (23 kB)\n",
      "Requirement already satisfied: PyYAML>=5.1 in c:\\users\\siamak.zanjani\\appdata\\local\\programs\\python\\python312\\lib\\site-packages (from esptool) (6.0.1)\n",
      "Collecting intelhex (from esptool)\n",
      "  Downloading intelhex-2.3.0-py2.py3-none-any.whl.metadata (2.7 kB)\n",
      "Collecting bitarray<3.0.0,>=2.9.0 (from bitstring>=3.1.6->esptool)\n",
      "  Downloading bitarray-2.9.2-cp312-cp312-win_amd64.whl.metadata (35 kB)\n",
      "Requirement already satisfied: cffi>=1.12 in c:\\users\\siamak.zanjani\\appdata\\local\\programs\\python\\python312\\lib\\site-packages (from cryptography>=2.1.4->esptool) (1.16.0)\n",
      "Requirement already satisfied: six>=1.9.0 in c:\\users\\siamak.zanjani\\appdata\\local\\programs\\python\\python312\\lib\\site-packages (from ecdsa>=0.16.0->esptool) (1.16.0)\n",
      "Requirement already satisfied: pycparser in c:\\users\\siamak.zanjani\\appdata\\local\\programs\\python\\python312\\lib\\site-packages (from cffi>=1.12->cryptography>=2.1.4->esptool) (2.22)\n",
      "Downloading bitstring-4.2.3-py3-none-any.whl (71 kB)\n",
      "   ---------------------------------------- 0.0/71.7 kB ? eta -:--:--\n",
      "   ---------------------------------------- 71.7/71.7 kB ? eta 0:00:00\n",
      "Downloading cryptography-42.0.7-cp39-abi3-win_amd64.whl (2.9 MB)\n",
      "   ---------------------------------------- 0.0/2.9 MB ? eta -:--:--\n",
      "   ------------- -------------------------- 1.0/2.9 MB 20.9 MB/s eta 0:00:01\n",
      "   ---------------------------------------  2.9/2.9 MB 30.5 MB/s eta 0:00:01\n",
      "   ---------------------------------------- 2.9/2.9 MB 26.4 MB/s eta 0:00:00\n",
      "Downloading ecdsa-0.19.0-py2.py3-none-any.whl (149 kB)\n",
      "   ---------------------------------------- 0.0/149.3 kB ? eta -:--:--\n",
      "   ---------------------------------------- 149.3/149.3 kB 8.7 MB/s eta 0:00:00\n",
      "Downloading pyserial-3.5-py2.py3-none-any.whl (90 kB)\n",
      "   ---------------------------------------- 0.0/90.6 kB ? eta -:--:--\n",
      "   ---------------------------------------- 90.6/90.6 kB 5.0 MB/s eta 0:00:00\n",
      "Downloading reedsolo-1.7.0-py3-none-any.whl (32 kB)\n",
      "Downloading intelhex-2.3.0-py2.py3-none-any.whl (50 kB)\n",
      "   ---------------------------------------- 0.0/50.9 kB ? eta -:--:--\n",
      "   ---------------------------------------- 50.9/50.9 kB ? eta 0:00:00\n",
      "Downloading bitarray-2.9.2-cp312-cp312-win_amd64.whl (126 kB)\n",
      "   ---------------------------------------- 0.0/126.2 kB ? eta -:--:--\n",
      "   ---------------------------------------- 126.2/126.2 kB 7.2 MB/s eta 0:00:00\n",
      "Building wheels for collected packages: esptool\n",
      "  Building wheel for esptool (pyproject.toml): started\n",
      "  Building wheel for esptool (pyproject.toml): finished with status 'done'\n",
      "  Created wheel for esptool: filename=esptool-4.7.0-py3-none-any.whl size=364541 sha256=d23e01e0ad8b15f578f35c0d2b094d1499c9080907bc02e3dd95d881a7ee3cc5\n",
      "  Stored in directory: c:\\users\\siamak.zanjani\\appdata\\local\\pip\\cache\\wheels\\90\\00\\90\\e060c90e673ce4a40bf6f90fade521db90376fafcb0da83bb7\n",
      "Successfully built esptool\n",
      "Installing collected packages: reedsolo, pyserial, intelhex, bitarray, ecdsa, bitstring, cryptography, esptool\n",
      "Successfully installed bitarray-2.9.2 bitstring-4.2.3 cryptography-42.0.7 ecdsa-0.19.0 esptool-4.7.0 intelhex-2.3.0 pyserial-3.5 reedsolo-1.7.0\n",
      "Note: you may need to restart the kernel to use updated packages.\n"
     ]
    },
    {
     "name": "stderr",
     "output_type": "stream",
     "text": [
      "  WARNING: The scripts pyserial-miniterm.exe and pyserial-ports.exe are installed in 'c:\\Users\\siamak.zanjani\\AppData\\Local\\Programs\\Python\\Python312\\Scripts' which is not on PATH.\n",
      "  Consider adding this directory to PATH or, if you prefer to suppress this warning, use --no-warn-script-location.\n",
      "  WARNING: The scripts esp_rfc2217_server.exe, espefuse.exe, espsecure.exe and esptool.exe are installed in 'c:\\Users\\siamak.zanjani\\AppData\\Local\\Programs\\Python\\Python312\\Scripts' which is not on PATH.\n",
      "  Consider adding this directory to PATH or, if you prefer to suppress this warning, use --no-warn-script-location.\n"
     ]
    }
   ],
   "source": [
    "%pip install esptool\n"
   ]
  },
  {
   "cell_type": "code",
   "execution_count": 1,
   "metadata": {},
   "outputs": [
    {
     "name": "stdout",
     "output_type": "stream",
     "text": [
      "Collecting setuptools\n",
      "  Using cached setuptools-70.0.0-py3-none-any.whl.metadata (5.9 kB)\n",
      "Using cached setuptools-70.0.0-py3-none-any.whl (863 kB)\n",
      "Installing collected packages: setuptools\n",
      "Successfully installed setuptools-70.0.0\n",
      "Note: you may need to restart the kernel to use updated packages.\n"
     ]
    }
   ],
   "source": [
    "%pip install setuptools"
   ]
  },
  {
   "cell_type": "code",
   "execution_count": 2,
   "metadata": {},
   "outputs": [
    {
     "name": "stdout",
     "output_type": "stream",
     "text": [
      " * Serving Flask app '__main__'\n",
      " * Debug mode: on\n"
     ]
    },
    {
     "name": "stderr",
     "output_type": "stream",
     "text": [
      "WARNING: This is a development server. Do not use it in a production deployment. Use a production WSGI server instead.\n",
      " * Running on http://127.0.0.1:5000\n",
      "Press CTRL+C to quit\n",
      " * Restarting with stat\n"
     ]
    },
    {
     "ename": "SystemExit",
     "evalue": "1",
     "output_type": "error",
     "traceback": [
      "An exception has occurred, use %tb to see the full traceback.\n",
      "\u001b[1;31mSystemExit\u001b[0m\u001b[1;31m:\u001b[0m 1\n"
     ]
    },
    {
     "name": "stderr",
     "output_type": "stream",
     "text": [
      "c:\\Users\\siamak.zanjani\\AppData\\Local\\Programs\\Python\\Python312\\Lib\\site-packages\\IPython\\core\\interactiveshell.py:3585: UserWarning: To exit: use 'exit', 'quit', or Ctrl-D.\n",
      "  warn(\"To exit: use 'exit', 'quit', or Ctrl-D.\", stacklevel=1)\n"
     ]
    }
   ],
   "source": [
    "from flask import Flask, render_template, request, jsonify\n",
    "import matplotlib.pyplot as plt\n",
    "import numpy as np\n",
    "import os\n",
    "\n",
    "app = Flask(__name__)\n",
    "\n",
    "# Root route for the home page\n",
    "@app.route('/')\n",
    "def home():\n",
    "    return render_template('index.html')\n",
    "\n",
    "# Route to handle form submissions\n",
    "@app.route('/submit', methods=['POST'])\n",
    "def submit():\n",
    "    data = request.get_json()\n",
    "    rat_id = data['rat_id']\n",
    "    save_location = data['save_location']\n",
    "    calibration_file = data['calibration_file']\n",
    "    # Process and handle the data here\n",
    "    # Return a response\n",
    "    return jsonify(status='success', rat_id=rat_id, save_location=save_location, calibration_file=calibration_file)\n",
    "\n",
    "# Route to generate and return the plot\n",
    "@app.route('/plot')\n",
    "def plot():\n",
    "    t = np.linspace(0, 1, 100)\n",
    "    angle = np.sin(2 * np.pi * t)\n",
    "    \n",
    "    fig, ax = plt.subplots()\n",
    "    ax.plot(t, angle)\n",
    "    ax.set_xlabel('Time (s)')\n",
    "    ax.set_ylabel('Angle (deg)')\n",
    "    ax.set_title('Knob Rotation Angle')\n",
    "    \n",
    "    plot_path = os.path.join('static', 'plot.png')\n",
    "    plt.savefig(plot_path)\n",
    "    plt.close(fig)\n",
    "    \n",
    "    return jsonify(status='success', plot_url=plot_path)\n",
    "\n",
    "if __name__ == \"__main__\":\n",
    "    app.run(debug=True)\n"
   ]
  },
  {
   "cell_type": "code",
   "execution_count": 7,
   "metadata": {},
   "outputs": [
    {
     "name": "stderr",
     "output_type": "stream",
     "text": [
      "UsageError: Line magic function `%py` not found.\n"
     ]
    },
    {
     "ename": "",
     "evalue": "",
     "output_type": "error",
     "traceback": [
      "\u001b[1;31mThe Kernel crashed while executing code in the current cell or a previous cell. \n",
      "\u001b[1;31mPlease review the code in the cell(s) to identify a possible cause of the failure. \n",
      "\u001b[1;31mClick <a href='https://aka.ms/vscodeJupyterKernelCrash'>here</a> for more info. \n",
      "\u001b[1;31mView Jupyter <a href='command:jupyter.viewOutput'>log</a> for further details."
     ]
    }
   ],
   "source": []
  }
 ],
 "metadata": {
  "kernelspec": {
   "display_name": "Python 3",
   "language": "python",
   "name": "python3"
  },
  "language_info": {
   "codemirror_mode": {
    "name": "ipython",
    "version": 3
   },
   "file_extension": ".py",
   "mimetype": "text/x-python",
   "name": "python",
   "nbconvert_exporter": "python",
   "pygments_lexer": "ipython3",
   "version": "3.12.3"
  }
 },
 "nbformat": 4,
 "nbformat_minor": 2
}
